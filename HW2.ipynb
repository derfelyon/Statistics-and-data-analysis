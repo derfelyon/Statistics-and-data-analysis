{
 "cells": [
  {
   "cell_type": "markdown",
   "metadata": {},
   "source": [
    "### IDs:\n",
    "Insert yours IDs to the cell below"
   ]
  },
  {
   "cell_type": "markdown",
   "metadata": {},
   "source": [
    "ID #1: 313288284\n",
    "\n",
    "ID #2: 205570989\n"
   ]
  },
  {
   "cell_type": "markdown",
   "metadata": {},
   "source": [
    "## Read the following instructions carefully:\n",
    "\n",
    "1. This jupyter notebook contains all the step by step instructions needed for this exercise.\n",
    "1. You are free to add cells.\n",
    "1. Write your functions and your answers in this jupyter notebook only.\n",
    "1. Answers to theoretical questions should be written in **markdown cells (with $\\LaTeX$ support)**.\n",
    "1. Submit this jupyter notebook only using your ID as a filename. Not to use ZIP or RAR. For example, your Moodle submission file name should look like this (two id numbers): `123456789_987654321.ipynb`."
   ]
  },
  {
   "cell_type": "markdown",
   "metadata": {},
   "source": [
    "### Question 1 - Data exploration and visialization - practical"
   ]
  },
  {
   "cell_type": "markdown",
   "metadata": {},
   "source": [
    "Load Boston dataset from sklearn.\n",
    "Explore the data. follow th instructions below and make sure to support your answers with proper outputs and plots.\n",
    "When plotting, pay close attention to the range of the axis, and include axis labels and a title for the figure.\n",
    "\n",
    "1. describe the dataset. How many samples does it contain? How many features? What isis the data type for each variable?\n",
    "2. Produce a histogram and a boxplot of the nitric oxides concentration. describe the distribution.\n",
    "3. Produce a correlation matrix of all the features. Are there any correlated features? Can you identify one feature with unusual behaviour?\n",
    "4. Select the 2 pairs of features with the highest correlation (positive or negative) and plot 2 scatter plots with marginal histograms (JointPlot). \n",
    "5. Produce a cumulative histogram of the age variable and add two horizontal lines on the first and third quartile (on the cumulative count)\n",
    "6. Identify and report 2 “interesting” trends in the data. No need to provide statistical confidence at this point. "
   ]
  },
  {
   "cell_type": "code",
   "execution_count": 141,
   "metadata": {},
   "outputs": [],
   "source": [
    "import numpy as np\n",
    "import pandas as pd\n",
    "import matplotlib as mpl\n",
    "from matplotlib import pyplot as plt\n",
    "import seaborn as sns\n",
    "import scipy.stats as stats\n",
    "from scipy.stats import norm\n",
    "from IPython.display import Math, Latex\n",
    "from scipy.stats import nbinom\n",
    "from scipy.stats import binom\n",
    "import scipy.stats\n",
    "import math"
   ]
  },
  {
   "cell_type": "code",
   "execution_count": 142,
   "metadata": {},
   "outputs": [
    {
     "data": {
      "text/html": [
       "<div>\n",
       "<style scoped>\n",
       "    .dataframe tbody tr th:only-of-type {\n",
       "        vertical-align: middle;\n",
       "    }\n",
       "\n",
       "    .dataframe tbody tr th {\n",
       "        vertical-align: top;\n",
       "    }\n",
       "\n",
       "    .dataframe thead th {\n",
       "        text-align: right;\n",
       "    }\n",
       "</style>\n",
       "<table border=\"1\" class=\"dataframe\">\n",
       "  <thead>\n",
       "    <tr style=\"text-align: right;\">\n",
       "      <th></th>\n",
       "      <th>CRIM</th>\n",
       "      <th>ZN</th>\n",
       "      <th>INDUS</th>\n",
       "      <th>CHAS</th>\n",
       "      <th>NOX</th>\n",
       "      <th>RM</th>\n",
       "      <th>AGE</th>\n",
       "      <th>DIS</th>\n",
       "      <th>RAD</th>\n",
       "      <th>TAX</th>\n",
       "      <th>PTRATIO</th>\n",
       "      <th>B</th>\n",
       "      <th>LSTAT</th>\n",
       "      <th>target</th>\n",
       "    </tr>\n",
       "  </thead>\n",
       "  <tbody>\n",
       "    <tr>\n",
       "      <th>0</th>\n",
       "      <td>0.00632</td>\n",
       "      <td>18.0</td>\n",
       "      <td>2.31</td>\n",
       "      <td>0.0</td>\n",
       "      <td>0.538</td>\n",
       "      <td>6.575</td>\n",
       "      <td>65.2</td>\n",
       "      <td>4.0900</td>\n",
       "      <td>1.0</td>\n",
       "      <td>296.0</td>\n",
       "      <td>15.3</td>\n",
       "      <td>396.90</td>\n",
       "      <td>4.98</td>\n",
       "      <td>24.0</td>\n",
       "    </tr>\n",
       "    <tr>\n",
       "      <th>1</th>\n",
       "      <td>0.02731</td>\n",
       "      <td>0.0</td>\n",
       "      <td>7.07</td>\n",
       "      <td>0.0</td>\n",
       "      <td>0.469</td>\n",
       "      <td>6.421</td>\n",
       "      <td>78.9</td>\n",
       "      <td>4.9671</td>\n",
       "      <td>2.0</td>\n",
       "      <td>242.0</td>\n",
       "      <td>17.8</td>\n",
       "      <td>396.90</td>\n",
       "      <td>9.14</td>\n",
       "      <td>21.6</td>\n",
       "    </tr>\n",
       "    <tr>\n",
       "      <th>2</th>\n",
       "      <td>0.02729</td>\n",
       "      <td>0.0</td>\n",
       "      <td>7.07</td>\n",
       "      <td>0.0</td>\n",
       "      <td>0.469</td>\n",
       "      <td>7.185</td>\n",
       "      <td>61.1</td>\n",
       "      <td>4.9671</td>\n",
       "      <td>2.0</td>\n",
       "      <td>242.0</td>\n",
       "      <td>17.8</td>\n",
       "      <td>392.83</td>\n",
       "      <td>4.03</td>\n",
       "      <td>34.7</td>\n",
       "    </tr>\n",
       "    <tr>\n",
       "      <th>3</th>\n",
       "      <td>0.03237</td>\n",
       "      <td>0.0</td>\n",
       "      <td>2.18</td>\n",
       "      <td>0.0</td>\n",
       "      <td>0.458</td>\n",
       "      <td>6.998</td>\n",
       "      <td>45.8</td>\n",
       "      <td>6.0622</td>\n",
       "      <td>3.0</td>\n",
       "      <td>222.0</td>\n",
       "      <td>18.7</td>\n",
       "      <td>394.63</td>\n",
       "      <td>2.94</td>\n",
       "      <td>33.4</td>\n",
       "    </tr>\n",
       "    <tr>\n",
       "      <th>4</th>\n",
       "      <td>0.06905</td>\n",
       "      <td>0.0</td>\n",
       "      <td>2.18</td>\n",
       "      <td>0.0</td>\n",
       "      <td>0.458</td>\n",
       "      <td>7.147</td>\n",
       "      <td>54.2</td>\n",
       "      <td>6.0622</td>\n",
       "      <td>3.0</td>\n",
       "      <td>222.0</td>\n",
       "      <td>18.7</td>\n",
       "      <td>396.90</td>\n",
       "      <td>5.33</td>\n",
       "      <td>36.2</td>\n",
       "    </tr>\n",
       "  </tbody>\n",
       "</table>\n",
       "</div>"
      ],
      "text/plain": [
       "      CRIM    ZN  INDUS  CHAS    NOX     RM   AGE     DIS  RAD    TAX  \\\n",
       "0  0.00632  18.0   2.31   0.0  0.538  6.575  65.2  4.0900  1.0  296.0   \n",
       "1  0.02731   0.0   7.07   0.0  0.469  6.421  78.9  4.9671  2.0  242.0   \n",
       "2  0.02729   0.0   7.07   0.0  0.469  7.185  61.1  4.9671  2.0  242.0   \n",
       "3  0.03237   0.0   2.18   0.0  0.458  6.998  45.8  6.0622  3.0  222.0   \n",
       "4  0.06905   0.0   2.18   0.0  0.458  7.147  54.2  6.0622  3.0  222.0   \n",
       "\n",
       "   PTRATIO       B  LSTAT  target  \n",
       "0     15.3  396.90   4.98    24.0  \n",
       "1     17.8  396.90   9.14    21.6  \n",
       "2     17.8  392.83   4.03    34.7  \n",
       "3     18.7  394.63   2.94    33.4  \n",
       "4     18.7  396.90   5.33    36.2  "
      ]
     },
     "execution_count": 142,
     "metadata": {},
     "output_type": "execute_result"
    }
   ],
   "source": [
    "from sklearn.datasets import load_boston \n",
    "boston = load_boston()\n",
    "df_boston = pd.DataFrame(boston.data,columns=boston.feature_names)\n",
    "df_boston['target'] = pd.Series(boston.target)\n",
    "df_boston.head()\n"
   ]
  },
  {
   "cell_type": "code",
   "execution_count": 143,
   "metadata": {},
   "outputs": [
    {
     "name": "stdout",
     "output_type": "stream",
     "text": [
      ".. _boston_dataset:\n",
      "\n",
      "Boston house prices dataset\n",
      "---------------------------\n",
      "\n",
      "**Data Set Characteristics:**  \n",
      "\n",
      "    :Number of Instances: 506 \n",
      "\n",
      "    :Number of Attributes: 13 numeric/categorical predictive. Median Value (attribute 14) is usually the target.\n",
      "\n",
      "    :Attribute Information (in order):\n",
      "        - CRIM     per capita crime rate by town\n",
      "        - ZN       proportion of residential land zoned for lots over 25,000 sq.ft.\n",
      "        - INDUS    proportion of non-retail business acres per town\n",
      "        - CHAS     Charles River dummy variable (= 1 if tract bounds river; 0 otherwise)\n",
      "        - NOX      nitric oxides concentration (parts per 10 million)\n",
      "        - RM       average number of rooms per dwelling\n",
      "        - AGE      proportion of owner-occupied units built prior to 1940\n",
      "        - DIS      weighted distances to five Boston employment centres\n",
      "        - RAD      index of accessibility to radial highways\n",
      "        - TAX      full-value property-tax rate per $10,000\n",
      "        - PTRATIO  pupil-teacher ratio by town\n",
      "        - B        1000(Bk - 0.63)^2 where Bk is the proportion of blacks by town\n",
      "        - LSTAT    % lower status of the population\n",
      "        - MEDV     Median value of owner-occupied homes in $1000's\n",
      "\n",
      "    :Missing Attribute Values: None\n",
      "\n",
      "    :Creator: Harrison, D. and Rubinfeld, D.L.\n",
      "\n",
      "This is a copy of UCI ML housing dataset.\n",
      "https://archive.ics.uci.edu/ml/machine-learning-databases/housing/\n",
      "\n",
      "\n",
      "This dataset was taken from the StatLib library which is maintained at Carnegie Mellon University.\n",
      "\n",
      "The Boston house-price data of Harrison, D. and Rubinfeld, D.L. 'Hedonic\n",
      "prices and the demand for clean air', J. Environ. Economics & Management,\n",
      "vol.5, 81-102, 1978.   Used in Belsley, Kuh & Welsch, 'Regression diagnostics\n",
      "...', Wiley, 1980.   N.B. Various transformations are used in the table on\n",
      "pages 244-261 of the latter.\n",
      "\n",
      "The Boston house-price data has been used in many machine learning papers that address regression\n",
      "problems.   \n",
      "     \n",
      ".. topic:: References\n",
      "\n",
      "   - Belsley, Kuh & Welsch, 'Regression diagnostics: Identifying Influential Data and Sources of Collinearity', Wiley, 1980. 244-261.\n",
      "   - Quinlan,R. (1993). Combining Instance-Based and Model-Based Learning. In Proceedings on the Tenth International Conference of Machine Learning, 236-243, University of Massachusetts, Amherst. Morgan Kaufmann.\n",
      "\n"
     ]
    }
   ],
   "source": [
    "print(boston.DESCR)"
   ]
  },
  {
   "cell_type": "markdown",
   "metadata": {},
   "source": [
    "Section 1"
   ]
  },
  {
   "cell_type": "code",
   "execution_count": 175,
   "metadata": {
    "scrolled": true
   },
   "outputs": [
    {
     "name": "stdout",
     "output_type": "stream",
     "text": [
      "(506, 15)\n",
      "CRIM         float64\n",
      "ZN           float64\n",
      "INDUS        float64\n",
      "CHAS         float64\n",
      "NOX          float64\n",
      "RM           float64\n",
      "AGE          float64\n",
      "DIS          float64\n",
      "RAD          float64\n",
      "TAX          float64\n",
      "PTRATIO      float64\n",
      "B            float64\n",
      "LSTAT        float64\n",
      "target       float64\n",
      "Nox_bins    category\n",
      "dtype: object\n"
     ]
    },
    {
     "data": {
      "text/html": [
       "<div>\n",
       "<style scoped>\n",
       "    .dataframe tbody tr th:only-of-type {\n",
       "        vertical-align: middle;\n",
       "    }\n",
       "\n",
       "    .dataframe tbody tr th {\n",
       "        vertical-align: top;\n",
       "    }\n",
       "\n",
       "    .dataframe thead th {\n",
       "        text-align: right;\n",
       "    }\n",
       "</style>\n",
       "<table border=\"1\" class=\"dataframe\">\n",
       "  <thead>\n",
       "    <tr style=\"text-align: right;\">\n",
       "      <th></th>\n",
       "      <th>CRIM</th>\n",
       "      <th>ZN</th>\n",
       "      <th>INDUS</th>\n",
       "      <th>CHAS</th>\n",
       "      <th>NOX</th>\n",
       "      <th>RM</th>\n",
       "      <th>AGE</th>\n",
       "      <th>DIS</th>\n",
       "      <th>RAD</th>\n",
       "      <th>TAX</th>\n",
       "      <th>PTRATIO</th>\n",
       "      <th>B</th>\n",
       "      <th>LSTAT</th>\n",
       "      <th>target</th>\n",
       "    </tr>\n",
       "  </thead>\n",
       "  <tbody>\n",
       "    <tr>\n",
       "      <th>count</th>\n",
       "      <td>506.000000</td>\n",
       "      <td>506.000000</td>\n",
       "      <td>506.000000</td>\n",
       "      <td>506.000000</td>\n",
       "      <td>506.000000</td>\n",
       "      <td>506.000000</td>\n",
       "      <td>506.000000</td>\n",
       "      <td>506.000000</td>\n",
       "      <td>506.000000</td>\n",
       "      <td>506.000000</td>\n",
       "      <td>506.000000</td>\n",
       "      <td>506.000000</td>\n",
       "      <td>506.000000</td>\n",
       "      <td>506.000000</td>\n",
       "    </tr>\n",
       "    <tr>\n",
       "      <th>mean</th>\n",
       "      <td>3.613524</td>\n",
       "      <td>11.363636</td>\n",
       "      <td>11.136779</td>\n",
       "      <td>0.069170</td>\n",
       "      <td>0.554695</td>\n",
       "      <td>6.284634</td>\n",
       "      <td>68.574901</td>\n",
       "      <td>3.795043</td>\n",
       "      <td>9.549407</td>\n",
       "      <td>408.237154</td>\n",
       "      <td>18.455534</td>\n",
       "      <td>356.674032</td>\n",
       "      <td>12.653063</td>\n",
       "      <td>22.532806</td>\n",
       "    </tr>\n",
       "    <tr>\n",
       "      <th>std</th>\n",
       "      <td>8.601545</td>\n",
       "      <td>23.322453</td>\n",
       "      <td>6.860353</td>\n",
       "      <td>0.253994</td>\n",
       "      <td>0.115878</td>\n",
       "      <td>0.702617</td>\n",
       "      <td>28.148861</td>\n",
       "      <td>2.105710</td>\n",
       "      <td>8.707259</td>\n",
       "      <td>168.537116</td>\n",
       "      <td>2.164946</td>\n",
       "      <td>91.294864</td>\n",
       "      <td>7.141062</td>\n",
       "      <td>9.197104</td>\n",
       "    </tr>\n",
       "    <tr>\n",
       "      <th>min</th>\n",
       "      <td>0.006320</td>\n",
       "      <td>0.000000</td>\n",
       "      <td>0.460000</td>\n",
       "      <td>0.000000</td>\n",
       "      <td>0.385000</td>\n",
       "      <td>3.561000</td>\n",
       "      <td>2.900000</td>\n",
       "      <td>1.129600</td>\n",
       "      <td>1.000000</td>\n",
       "      <td>187.000000</td>\n",
       "      <td>12.600000</td>\n",
       "      <td>0.320000</td>\n",
       "      <td>1.730000</td>\n",
       "      <td>5.000000</td>\n",
       "    </tr>\n",
       "    <tr>\n",
       "      <th>25%</th>\n",
       "      <td>0.082045</td>\n",
       "      <td>0.000000</td>\n",
       "      <td>5.190000</td>\n",
       "      <td>0.000000</td>\n",
       "      <td>0.449000</td>\n",
       "      <td>5.885500</td>\n",
       "      <td>45.025000</td>\n",
       "      <td>2.100175</td>\n",
       "      <td>4.000000</td>\n",
       "      <td>279.000000</td>\n",
       "      <td>17.400000</td>\n",
       "      <td>375.377500</td>\n",
       "      <td>6.950000</td>\n",
       "      <td>17.025000</td>\n",
       "    </tr>\n",
       "    <tr>\n",
       "      <th>50%</th>\n",
       "      <td>0.256510</td>\n",
       "      <td>0.000000</td>\n",
       "      <td>9.690000</td>\n",
       "      <td>0.000000</td>\n",
       "      <td>0.538000</td>\n",
       "      <td>6.208500</td>\n",
       "      <td>77.500000</td>\n",
       "      <td>3.207450</td>\n",
       "      <td>5.000000</td>\n",
       "      <td>330.000000</td>\n",
       "      <td>19.050000</td>\n",
       "      <td>391.440000</td>\n",
       "      <td>11.360000</td>\n",
       "      <td>21.200000</td>\n",
       "    </tr>\n",
       "    <tr>\n",
       "      <th>75%</th>\n",
       "      <td>3.677083</td>\n",
       "      <td>12.500000</td>\n",
       "      <td>18.100000</td>\n",
       "      <td>0.000000</td>\n",
       "      <td>0.624000</td>\n",
       "      <td>6.623500</td>\n",
       "      <td>94.075000</td>\n",
       "      <td>5.188425</td>\n",
       "      <td>24.000000</td>\n",
       "      <td>666.000000</td>\n",
       "      <td>20.200000</td>\n",
       "      <td>396.225000</td>\n",
       "      <td>16.955000</td>\n",
       "      <td>25.000000</td>\n",
       "    </tr>\n",
       "    <tr>\n",
       "      <th>max</th>\n",
       "      <td>88.976200</td>\n",
       "      <td>100.000000</td>\n",
       "      <td>27.740000</td>\n",
       "      <td>1.000000</td>\n",
       "      <td>0.871000</td>\n",
       "      <td>8.780000</td>\n",
       "      <td>100.000000</td>\n",
       "      <td>12.126500</td>\n",
       "      <td>24.000000</td>\n",
       "      <td>711.000000</td>\n",
       "      <td>22.000000</td>\n",
       "      <td>396.900000</td>\n",
       "      <td>37.970000</td>\n",
       "      <td>50.000000</td>\n",
       "    </tr>\n",
       "  </tbody>\n",
       "</table>\n",
       "</div>"
      ],
      "text/plain": [
       "             CRIM          ZN       INDUS        CHAS         NOX          RM  \\\n",
       "count  506.000000  506.000000  506.000000  506.000000  506.000000  506.000000   \n",
       "mean     3.613524   11.363636   11.136779    0.069170    0.554695    6.284634   \n",
       "std      8.601545   23.322453    6.860353    0.253994    0.115878    0.702617   \n",
       "min      0.006320    0.000000    0.460000    0.000000    0.385000    3.561000   \n",
       "25%      0.082045    0.000000    5.190000    0.000000    0.449000    5.885500   \n",
       "50%      0.256510    0.000000    9.690000    0.000000    0.538000    6.208500   \n",
       "75%      3.677083   12.500000   18.100000    0.000000    0.624000    6.623500   \n",
       "max     88.976200  100.000000   27.740000    1.000000    0.871000    8.780000   \n",
       "\n",
       "              AGE         DIS         RAD         TAX     PTRATIO           B  \\\n",
       "count  506.000000  506.000000  506.000000  506.000000  506.000000  506.000000   \n",
       "mean    68.574901    3.795043    9.549407  408.237154   18.455534  356.674032   \n",
       "std     28.148861    2.105710    8.707259  168.537116    2.164946   91.294864   \n",
       "min      2.900000    1.129600    1.000000  187.000000   12.600000    0.320000   \n",
       "25%     45.025000    2.100175    4.000000  279.000000   17.400000  375.377500   \n",
       "50%     77.500000    3.207450    5.000000  330.000000   19.050000  391.440000   \n",
       "75%     94.075000    5.188425   24.000000  666.000000   20.200000  396.225000   \n",
       "max    100.000000   12.126500   24.000000  711.000000   22.000000  396.900000   \n",
       "\n",
       "            LSTAT      target  \n",
       "count  506.000000  506.000000  \n",
       "mean    12.653063   22.532806  \n",
       "std      7.141062    9.197104  \n",
       "min      1.730000    5.000000  \n",
       "25%      6.950000   17.025000  \n",
       "50%     11.360000   21.200000  \n",
       "75%     16.955000   25.000000  \n",
       "max     37.970000   50.000000  "
      ]
     },
     "execution_count": 175,
     "metadata": {},
     "output_type": "execute_result"
    }
   ],
   "source": [
    "\n",
    "s=df_boston.shape # so number of samples is 506 and number of features 14\n",
    "d=df_boston.dtypes # data type for each variable\n",
    "print(s)\n",
    "print(d)\n",
    "df_boston.describe()"
   ]
  },
  {
   "cell_type": "markdown",
   "metadata": {},
   "source": [
    "Section 2"
   ]
  },
  {
   "cell_type": "code",
   "execution_count": 171,
   "metadata": {},
   "outputs": [
    {
     "name": "stdout",
     "output_type": "stream",
     "text": [
      "We can how nitric oxides concentration distrbution reminds log normal disrbution with about 0.55 as the mean\n"
     ]
    },
    {
     "data": {
      "image/png": "[encoded data removed]",
      "text/plain": [
       "<Figure size 360x360 with 1 Axes>"
      ]
     },
     "metadata": {
      "needs_background": "light"
     },
     "output_type": "display_data"
    }
   ],
   "source": [
    "\n",
    "sns.displot(df_boston, x=df_boston[\"NOX\"], binwidth= 0.05)\n",
    "df1 = df_boston\n",
    "plt.title('Nitric oxides concentration histogram')\n",
    "print('We can how nitric oxides concentration distrbution reminds log normal disrbution with about 0.55 as the mean')"
   ]
  },
  {
   "cell_type": "markdown",
   "metadata": {},
   "source": [
    "Section 3"
   ]
  },
  {
   "cell_type": "code",
   "execution_count": 145,
   "metadata": {},
   "outputs": [
    {
     "name": "stdout",
     "output_type": "stream",
     "text": [
      "We can see from the nitric oxides concentration boxplot distribution that with the lower value of nox the target price is higher and vice-versa we can see that in the most higher nox rate the std is smaller from the rest \n"
     ]
    },
    {
     "data": {
      "image/png": "[encoded data removed]",
      "text/plain": [
       "<Figure size 1152x432 with 1 Axes>"
      ]
     },
     "metadata": {
      "needs_background": "light"
     },
     "output_type": "display_data"
    }
   ],
   "source": [
    "\n",
    "df1['Nox_bins'] = pd.qcut(df1['NOX'], q=10, precision=0)\n",
    "plt.figure(figsize= (16,6))\n",
    "rc=sns.boxplot(x=\"Nox_bins\", y=\"target\", data=df1, width = 0.1)\n",
    "plt.title('Nitric oxides concentration 10 bins boxplot')\n",
    "print('We can see from the nitric oxides concentration boxplot distribution that with the lower value of nox the target price is higher and vice-versa we can see that in the most higher nox rate the std is smaller from the rest ')\n"
   ]
  },
  {
   "cell_type": "markdown",
   "metadata": {},
   "source": [
    "Section 4"
   ]
  },
  {
   "cell_type": "code",
   "execution_count": 176,
   "metadata": {},
   "outputs": [
    {
     "name": "stdout",
     "output_type": "stream",
     "text": [
      "There many correlted features\n"
     ]
    }
   ],
   "source": [
    "\n",
    "corrM = df_boston.corr()\n",
    "print('There many correlted features')\n"
   ]
  },
  {
   "cell_type": "code",
   "execution_count": 147,
   "metadata": {},
   "outputs": [
    {
     "name": "stdout",
     "output_type": "stream",
     "text": [
      "one feature with unusual behavior is the CHAS which is relatively uncorrelated with any other feature besides the target\n"
     ]
    },
    {
     "data": {
      "text/plain": [
       "<matplotlib.axes._subplots.AxesSubplot at 0x2ab07a611f0>"
      ]
     },
     "execution_count": 147,
     "metadata": {},
     "output_type": "execute_result"
    },
    {
     "data": {
      "image/png": "[encoded data removed]",
      "text/plain": [
       "<Figure size 1152x432 with 2 Axes>"
      ]
     },
     "metadata": {
      "needs_background": "light"
     },
     "output_type": "display_data"
    }
   ],
   "source": [
    "print('one feature with unusual behavior is the CHAS which is relatively uncorrelated with any other feature besides the target')\n",
    "corrM = corrM.round(2)\n",
    "plt.figure(figsize= (16,6))\n",
    "sns.heatmap(corrM, \n",
    "        xticklabels=corrM.columns,\n",
    "        yticklabels=corrM.columns, annot = True)"
   ]
  },
  {
   "cell_type": "code",
   "execution_count": 148,
   "metadata": {},
   "outputs": [
    {
     "data": {
      "text/html": [
       "<div>\n",
       "<style scoped>\n",
       "    .dataframe tbody tr th:only-of-type {\n",
       "        vertical-align: middle;\n",
       "    }\n",
       "\n",
       "    .dataframe tbody tr th {\n",
       "        vertical-align: top;\n",
       "    }\n",
       "\n",
       "    .dataframe thead th {\n",
       "        text-align: right;\n",
       "    }\n",
       "</style>\n",
       "<table border=\"1\" class=\"dataframe\">\n",
       "  <thead>\n",
       "    <tr style=\"text-align: right;\">\n",
       "      <th></th>\n",
       "      <th>CRIM</th>\n",
       "      <th>ZN</th>\n",
       "      <th>INDUS</th>\n",
       "      <th>CHAS</th>\n",
       "      <th>NOX</th>\n",
       "      <th>RM</th>\n",
       "      <th>AGE</th>\n",
       "      <th>DIS</th>\n",
       "      <th>RAD</th>\n",
       "      <th>TAX</th>\n",
       "      <th>PTRATIO</th>\n",
       "      <th>B</th>\n",
       "      <th>LSTAT</th>\n",
       "      <th>target</th>\n",
       "    </tr>\n",
       "  </thead>\n",
       "  <tbody>\n",
       "    <tr>\n",
       "      <th>count</th>\n",
       "      <td>14.000000</td>\n",
       "      <td>14.000000</td>\n",
       "      <td>14.000000</td>\n",
       "      <td>14.000000</td>\n",
       "      <td>14.000000</td>\n",
       "      <td>14.000000</td>\n",
       "      <td>14.000000</td>\n",
       "      <td>14.000000</td>\n",
       "      <td>14.000000</td>\n",
       "      <td>14.000000</td>\n",
       "      <td>14.000000</td>\n",
       "      <td>14.000000</td>\n",
       "      <td>14.000000</td>\n",
       "      <td>14.000000</td>\n",
       "    </tr>\n",
       "    <tr>\n",
       "      <th>mean</th>\n",
       "      <td>0.107143</td>\n",
       "      <td>-0.126429</td>\n",
       "      <td>0.121429</td>\n",
       "      <td>0.010000</td>\n",
       "      <td>0.118571</td>\n",
       "      <td>-0.084286</td>\n",
       "      <td>0.102143</td>\n",
       "      <td>-0.217857</td>\n",
       "      <td>0.165714</td>\n",
       "      <td>0.165000</td>\n",
       "      <td>0.044286</td>\n",
       "      <td>-0.132143</td>\n",
       "      <td>0.069286</td>\n",
       "      <td>-0.140000</td>\n",
       "    </tr>\n",
       "    <tr>\n",
       "      <th>std</th>\n",
       "      <td>0.379867</td>\n",
       "      <td>0.382313</td>\n",
       "      <td>0.528595</td>\n",
       "      <td>0.085575</td>\n",
       "      <td>0.525208</td>\n",
       "      <td>0.343482</td>\n",
       "      <td>0.479474</td>\n",
       "      <td>0.447182</td>\n",
       "      <td>0.476715</td>\n",
       "      <td>0.510742</td>\n",
       "      <td>0.340401</td>\n",
       "      <td>0.284988</td>\n",
       "      <td>0.508262</td>\n",
       "      <td>0.432684</td>\n",
       "    </tr>\n",
       "    <tr>\n",
       "      <th>min</th>\n",
       "      <td>-0.390000</td>\n",
       "      <td>-0.570000</td>\n",
       "      <td>-0.710000</td>\n",
       "      <td>-0.120000</td>\n",
       "      <td>-0.770000</td>\n",
       "      <td>-0.610000</td>\n",
       "      <td>-0.750000</td>\n",
       "      <td>-0.770000</td>\n",
       "      <td>-0.490000</td>\n",
       "      <td>-0.530000</td>\n",
       "      <td>-0.510000</td>\n",
       "      <td>-0.440000</td>\n",
       "      <td>-0.740000</td>\n",
       "      <td>-0.740000</td>\n",
       "    </tr>\n",
       "    <tr>\n",
       "      <th>25%</th>\n",
       "      <td>-0.215000</td>\n",
       "      <td>-0.405000</td>\n",
       "      <td>-0.382500</td>\n",
       "      <td>-0.047500</td>\n",
       "      <td>-0.360000</td>\n",
       "      <td>-0.297500</td>\n",
       "      <td>-0.262500</td>\n",
       "      <td>-0.522500</td>\n",
       "      <td>-0.285000</td>\n",
       "      <td>-0.305000</td>\n",
       "      <td>-0.217500</td>\n",
       "      <td>-0.377500</td>\n",
       "      <td>-0.400000</td>\n",
       "      <td>-0.460000</td>\n",
       "    </tr>\n",
       "    <tr>\n",
       "      <th>50%</th>\n",
       "      <td>0.145000</td>\n",
       "      <td>-0.255000</td>\n",
       "      <td>0.220000</td>\n",
       "      <td>-0.005000</td>\n",
       "      <td>0.140000</td>\n",
       "      <td>-0.215000</td>\n",
       "      <td>0.175000</td>\n",
       "      <td>-0.305000</td>\n",
       "      <td>0.230000</td>\n",
       "      <td>0.230000</td>\n",
       "      <td>0.095000</td>\n",
       "      <td>-0.225000</td>\n",
       "      <td>0.185000</td>\n",
       "      <td>-0.380000</td>\n",
       "    </tr>\n",
       "    <tr>\n",
       "      <th>75%</th>\n",
       "      <td>0.417500</td>\n",
       "      <td>0.135000</td>\n",
       "      <td>0.600000</td>\n",
       "      <td>0.082500</td>\n",
       "      <td>0.605000</td>\n",
       "      <td>0.120000</td>\n",
       "      <td>0.497500</td>\n",
       "      <td>0.157500</td>\n",
       "      <td>0.572500</td>\n",
       "      <td>0.570000</td>\n",
       "      <td>0.350000</td>\n",
       "      <td>0.110000</td>\n",
       "      <td>0.527500</td>\n",
       "      <td>0.232500</td>\n",
       "    </tr>\n",
       "    <tr>\n",
       "      <th>max</th>\n",
       "      <td>0.630000</td>\n",
       "      <td>0.660000</td>\n",
       "      <td>0.760000</td>\n",
       "      <td>0.180000</td>\n",
       "      <td>0.760000</td>\n",
       "      <td>0.700000</td>\n",
       "      <td>0.730000</td>\n",
       "      <td>0.660000</td>\n",
       "      <td>0.910000</td>\n",
       "      <td>0.910000</td>\n",
       "      <td>0.460000</td>\n",
       "      <td>0.330000</td>\n",
       "      <td>0.600000</td>\n",
       "      <td>0.700000</td>\n",
       "    </tr>\n",
       "  </tbody>\n",
       "</table>\n",
       "</div>"
      ],
      "text/plain": [
       "            CRIM         ZN      INDUS       CHAS        NOX         RM  \\\n",
       "count  14.000000  14.000000  14.000000  14.000000  14.000000  14.000000   \n",
       "mean    0.107143  -0.126429   0.121429   0.010000   0.118571  -0.084286   \n",
       "std     0.379867   0.382313   0.528595   0.085575   0.525208   0.343482   \n",
       "min    -0.390000  -0.570000  -0.710000  -0.120000  -0.770000  -0.610000   \n",
       "25%    -0.215000  -0.405000  -0.382500  -0.047500  -0.360000  -0.297500   \n",
       "50%     0.145000  -0.255000   0.220000  -0.005000   0.140000  -0.215000   \n",
       "75%     0.417500   0.135000   0.600000   0.082500   0.605000   0.120000   \n",
       "max     0.630000   0.660000   0.760000   0.180000   0.760000   0.700000   \n",
       "\n",
       "             AGE        DIS        RAD        TAX    PTRATIO          B  \\\n",
       "count  14.000000  14.000000  14.000000  14.000000  14.000000  14.000000   \n",
       "mean    0.102143  -0.217857   0.165714   0.165000   0.044286  -0.132143   \n",
       "std     0.479474   0.447182   0.476715   0.510742   0.340401   0.284988   \n",
       "min    -0.750000  -0.770000  -0.490000  -0.530000  -0.510000  -0.440000   \n",
       "25%    -0.262500  -0.522500  -0.285000  -0.305000  -0.217500  -0.377500   \n",
       "50%     0.175000  -0.305000   0.230000   0.230000   0.095000  -0.225000   \n",
       "75%     0.497500   0.157500   0.572500   0.570000   0.350000   0.110000   \n",
       "max     0.730000   0.660000   0.910000   0.910000   0.460000   0.330000   \n",
       "\n",
       "           LSTAT     target  \n",
       "count  14.000000  14.000000  \n",
       "mean    0.069286  -0.140000  \n",
       "std     0.508262   0.432684  \n",
       "min    -0.740000  -0.740000  \n",
       "25%    -0.400000  -0.460000  \n",
       "50%     0.185000  -0.380000  \n",
       "75%     0.527500   0.232500  \n",
       "max     0.600000   0.700000  "
      ]
     },
     "execution_count": 148,
     "metadata": {},
     "output_type": "execute_result"
    }
   ],
   "source": [
    "corrM = corrM.replace(1,0)\n",
    "corrM.describe()\n",
    "## RAD +TAX\n",
    "## NOX + DIS"
   ]
  },
  {
   "cell_type": "code",
   "execution_count": 149,
   "metadata": {},
   "outputs": [
    {
     "data": {
      "text/plain": [
       "<seaborn.axisgrid.JointGrid at 0x2ab09d6b3d0>"
      ]
     },
     "execution_count": 149,
     "metadata": {},
     "output_type": "execute_result"
    },
    {
     "data": {
      "image/png": "[encoded data removed]",
      "text/plain": [
       "<Figure size 432x432 with 3 Axes>"
      ]
     },
     "metadata": {
      "needs_background": "light"
     },
     "output_type": "display_data"
    }
   ],
   "source": [
    "sns.jointplot(data = df_boston, x=\"RAD\", y=\"TAX\")"
   ]
  },
  {
   "cell_type": "code",
   "execution_count": 150,
   "metadata": {},
   "outputs": [
    {
     "data": {
      "text/plain": [
       "<seaborn.axisgrid.JointGrid at 0x2ab07396e50>"
      ]
     },
     "execution_count": 150,
     "metadata": {},
     "output_type": "execute_result"
    },
    {
     "data": {
      "image/png": "[encoded data removed]",
      "text/plain": [
       "<Figure size 432x432 with 3 Axes>"
      ]
     },
     "metadata": {
      "needs_background": "light"
     },
     "output_type": "display_data"
    }
   ],
   "source": [
    "sns.jointplot(data = df_boston , x = \"NOX\", y=\"DIS\")"
   ]
  },
  {
   "cell_type": "markdown",
   "metadata": {},
   "source": [
    "Section 5"
   ]
  },
  {
   "cell_type": "code",
   "execution_count": 152,
   "metadata": {},
   "outputs": [
    {
     "data": {
      "text/plain": [
       "[<matplotlib.lines.Line2D at 0x2ab09f0d850>]"
      ]
     },
     "execution_count": 152,
     "metadata": {},
     "output_type": "execute_result"
    },
    {
     "data": {
      "image/png": "[encoded data removed]",
      "text/plain": [
       "<Figure size 576x288 with 1 Axes>"
      ]
     },
     "metadata": {
      "needs_background": "light"
     },
     "output_type": "display_data"
    }
   ],
   "source": [
    "fig, ax = plt.subplots(figsize=(8, 4))\n",
    "n_bins = 50 \n",
    "y_1q= [0.75]*(n_bins+ 1)\n",
    "y_3q = [0.25]*(n_bins+1)\n",
    "plt.title('cumulative histogram of the age')\n",
    "n, bins, patches = ax.hist(df_boston['AGE'], n_bins, density=True, histtype='step',\n",
    "                           cumulative=True, label='Empirical')\n",
    "ax.plot(bins, y_1q, 'k--', linewidth=1.5, label='third quartile first')\n",
    "ax.plot(bins, y_3q, 'k--', linewidth=1.5, label='third quartile')"
   ]
  },
  {
   "cell_type": "markdown",
   "metadata": {},
   "source": [
    "Section 6"
   ]
  },
  {
   "cell_type": "code",
   "execution_count": 179,
   "metadata": {},
   "outputs": [
    {
     "data": {
      "text/html": [
       "<div>\n",
       "<style scoped>\n",
       "    .dataframe tbody tr th:only-of-type {\n",
       "        vertical-align: middle;\n",
       "    }\n",
       "\n",
       "    .dataframe tbody tr th {\n",
       "        vertical-align: top;\n",
       "    }\n",
       "\n",
       "    .dataframe thead th {\n",
       "        text-align: right;\n",
       "    }\n",
       "</style>\n",
       "<table border=\"1\" class=\"dataframe\">\n",
       "  <thead>\n",
       "    <tr style=\"text-align: right;\">\n",
       "      <th></th>\n",
       "      <th>CRIM</th>\n",
       "      <th>ZN</th>\n",
       "      <th>INDUS</th>\n",
       "      <th>CHAS</th>\n",
       "      <th>NOX</th>\n",
       "      <th>RM</th>\n",
       "      <th>AGE</th>\n",
       "      <th>DIS</th>\n",
       "      <th>RAD</th>\n",
       "      <th>TAX</th>\n",
       "      <th>PTRATIO</th>\n",
       "      <th>B</th>\n",
       "      <th>LSTAT</th>\n",
       "      <th>target</th>\n",
       "    </tr>\n",
       "  </thead>\n",
       "  <tbody>\n",
       "    <tr>\n",
       "      <th>count</th>\n",
       "      <td>14.000000</td>\n",
       "      <td>14.000000</td>\n",
       "      <td>14.000000</td>\n",
       "      <td>14.000000</td>\n",
       "      <td>14.000000</td>\n",
       "      <td>14.000000</td>\n",
       "      <td>14.000000</td>\n",
       "      <td>14.000000</td>\n",
       "      <td>14.000000</td>\n",
       "      <td>14.000000</td>\n",
       "      <td>14.000000</td>\n",
       "      <td>14.000000</td>\n",
       "      <td>14.000000</td>\n",
       "      <td>14.000000</td>\n",
       "    </tr>\n",
       "    <tr>\n",
       "      <th>mean</th>\n",
       "      <td>0.178963</td>\n",
       "      <td>-0.055854</td>\n",
       "      <td>0.193333</td>\n",
       "      <td>0.081414</td>\n",
       "      <td>0.190798</td>\n",
       "      <td>-0.013762</td>\n",
       "      <td>0.173833</td>\n",
       "      <td>-0.146527</td>\n",
       "      <td>0.235854</td>\n",
       "      <td>0.236150</td>\n",
       "      <td>0.116925</td>\n",
       "      <td>-0.060569</td>\n",
       "      <td>0.141277</td>\n",
       "      <td>-0.068390</td>\n",
       "    </tr>\n",
       "    <tr>\n",
       "      <th>std</th>\n",
       "      <td>0.445117</td>\n",
       "      <td>0.487876</td>\n",
       "      <td>0.577203</td>\n",
       "      <td>0.277651</td>\n",
       "      <td>0.573518</td>\n",
       "      <td>0.449620</td>\n",
       "      <td>0.534476</td>\n",
       "      <td>0.552479</td>\n",
       "      <td>0.523372</td>\n",
       "      <td>0.554964</td>\n",
       "      <td>0.425154</td>\n",
       "      <td>0.415799</td>\n",
       "      <td>0.565327</td>\n",
       "      <td>0.528348</td>\n",
       "    </tr>\n",
       "    <tr>\n",
       "      <th>min</th>\n",
       "      <td>-0.388305</td>\n",
       "      <td>-0.569537</td>\n",
       "      <td>-0.708027</td>\n",
       "      <td>-0.121515</td>\n",
       "      <td>-0.769230</td>\n",
       "      <td>-0.613808</td>\n",
       "      <td>-0.747881</td>\n",
       "      <td>-0.769230</td>\n",
       "      <td>-0.494588</td>\n",
       "      <td>-0.534432</td>\n",
       "      <td>-0.507787</td>\n",
       "      <td>-0.444413</td>\n",
       "      <td>-0.737663</td>\n",
       "      <td>-0.737663</td>\n",
       "    </tr>\n",
       "    <tr>\n",
       "      <th>25%</th>\n",
       "      <td>-0.214552</td>\n",
       "      <td>-0.407666</td>\n",
       "      <td>-0.383001</td>\n",
       "      <td>-0.051121</td>\n",
       "      <td>-0.360585</td>\n",
       "      <td>-0.299653</td>\n",
       "      <td>-0.265217</td>\n",
       "      <td>-0.525073</td>\n",
       "      <td>-0.286423</td>\n",
       "      <td>-0.308934</td>\n",
       "      <td>-0.218699</td>\n",
       "      <td>-0.376560</td>\n",
       "      <td>-0.401268</td>\n",
       "      <td>-0.458232</td>\n",
       "    </tr>\n",
       "    <tr>\n",
       "      <th>50%</th>\n",
       "      <td>0.321340</td>\n",
       "      <td>-0.256209</td>\n",
       "      <td>0.394915</td>\n",
       "      <td>0.020710</td>\n",
       "      <td>0.304952</td>\n",
       "      <td>-0.214547</td>\n",
       "      <td>0.307125</td>\n",
       "      <td>-0.306070</td>\n",
       "      <td>0.460382</td>\n",
       "      <td>0.483654</td>\n",
       "      <td>0.225224</td>\n",
       "      <td>-0.225459</td>\n",
       "      <td>0.414833</td>\n",
       "      <td>-0.379290</td>\n",
       "    </tr>\n",
       "    <tr>\n",
       "      <th>75%</th>\n",
       "      <td>0.446959</td>\n",
       "      <td>0.277873</td>\n",
       "      <td>0.634534</td>\n",
       "      <td>0.090032</td>\n",
       "      <td>0.653878</td>\n",
       "      <td>0.185952</td>\n",
       "      <td>0.578368</td>\n",
       "      <td>0.238758</td>\n",
       "      <td>0.607363</td>\n",
       "      <td>0.646708</td>\n",
       "      <td>0.380947</td>\n",
       "      <td>0.163657</td>\n",
       "      <td>0.579158</td>\n",
       "      <td>0.312578</td>\n",
       "    </tr>\n",
       "    <tr>\n",
       "      <th>max</th>\n",
       "      <td>1.000000</td>\n",
       "      <td>1.000000</td>\n",
       "      <td>1.000000</td>\n",
       "      <td>1.000000</td>\n",
       "      <td>1.000000</td>\n",
       "      <td>1.000000</td>\n",
       "      <td>1.000000</td>\n",
       "      <td>1.000000</td>\n",
       "      <td>1.000000</td>\n",
       "      <td>1.000000</td>\n",
       "      <td>1.000000</td>\n",
       "      <td>1.000000</td>\n",
       "      <td>1.000000</td>\n",
       "      <td>1.000000</td>\n",
       "    </tr>\n",
       "  </tbody>\n",
       "</table>\n",
       "</div>"
      ],
      "text/plain": [
       "            CRIM         ZN      INDUS       CHAS        NOX         RM  \\\n",
       "count  14.000000  14.000000  14.000000  14.000000  14.000000  14.000000   \n",
       "mean    0.178963  -0.055854   0.193333   0.081414   0.190798  -0.013762   \n",
       "std     0.445117   0.487876   0.577203   0.277651   0.573518   0.449620   \n",
       "min    -0.388305  -0.569537  -0.708027  -0.121515  -0.769230  -0.613808   \n",
       "25%    -0.214552  -0.407666  -0.383001  -0.051121  -0.360585  -0.299653   \n",
       "50%     0.321340  -0.256209   0.394915   0.020710   0.304952  -0.214547   \n",
       "75%     0.446959   0.277873   0.634534   0.090032   0.653878   0.185952   \n",
       "max     1.000000   1.000000   1.000000   1.000000   1.000000   1.000000   \n",
       "\n",
       "             AGE        DIS        RAD        TAX    PTRATIO          B  \\\n",
       "count  14.000000  14.000000  14.000000  14.000000  14.000000  14.000000   \n",
       "mean    0.173833  -0.146527   0.235854   0.236150   0.116925  -0.060569   \n",
       "std     0.534476   0.552479   0.523372   0.554964   0.425154   0.415799   \n",
       "min    -0.747881  -0.769230  -0.494588  -0.534432  -0.507787  -0.444413   \n",
       "25%    -0.265217  -0.525073  -0.286423  -0.308934  -0.218699  -0.376560   \n",
       "50%     0.307125  -0.306070   0.460382   0.483654   0.225224  -0.225459   \n",
       "75%     0.578368   0.238758   0.607363   0.646708   0.380947   0.163657   \n",
       "max     1.000000   1.000000   1.000000   1.000000   1.000000   1.000000   \n",
       "\n",
       "           LSTAT     target  \n",
       "count  14.000000  14.000000  \n",
       "mean    0.141277  -0.068390  \n",
       "std     0.565327   0.528348  \n",
       "min    -0.737663  -0.737663  \n",
       "25%    -0.401268  -0.458232  \n",
       "50%     0.414833  -0.379290  \n",
       "75%     0.579158   0.312578  \n",
       "max     1.000000   1.000000  "
      ]
     },
     "execution_count": 179,
     "metadata": {},
     "output_type": "execute_result"
    }
   ],
   "source": [
    "corrM.describe()\n"
   ]
  },
  {
   "cell_type": "code",
   "execution_count": 154,
   "metadata": {},
   "outputs": [
    {
     "name": "stdout",
     "output_type": "stream",
     "text": [
      "We can see that are property-tax rate of 450 per $10,000 and than a big gap far to 670 property-tax rate per $10,000 and the higher tax is mainly to lower target points\n"
     ]
    },
    {
     "data": {
      "image/png": "[encoded data removed]",
      "text/plain": [
       "<Figure size 432x288 with 1 Axes>"
      ]
     },
     "metadata": {
      "needs_background": "light"
     },
     "output_type": "display_data"
    }
   ],
   "source": [
    "plt.title('scatter plot for target and TAX')\n",
    "sns.scatterplot(data = df_boston , x = \"target\", y=\"TAX\")\n",
    "print('We can see that are property-tax rate of 450 per $10,000 and than a big gap far to 670 property-tax rate per $10,000 and the higher tax is mainly to lower target points')"
   ]
  },
  {
   "cell_type": "code",
   "execution_count": 155,
   "metadata": {},
   "outputs": [
    {
     "name": "stdout",
     "output_type": "stream",
     "text": [
      "We can see that the correltion between RAD and TAX is 0.9, which shows that higher tax payers get a better accessibility to radial highways\n"
     ]
    },
    {
     "data": {
      "image/png": "[encoded data removed]",
      "text/plain": [
       "<Figure size 432x288 with 1 Axes>"
      ]
     },
     "metadata": {
      "needs_background": "light"
     },
     "output_type": "display_data"
    }
   ],
   "source": [
    "plt.title('scatter plot for target and TAX')\n",
    "sns.scatterplot(data = df_boston , x = \"RAD\", y=\"TAX\")\n",
    "print(\"We can see that the correltion between RAD and TAX is 0.9, which shows that higher tax payers get a better accessibility to radial highways\")"
   ]
  },
  {
   "cell_type": "markdown",
   "metadata": {},
   "source": [
    "### Question 2 - Independence and conditional independence"
   ]
  },
  {
   "cell_type": "markdown",
   "metadata": {},
   "source": [
    "#### 2.A\n",
    "Can we define a three dimensional multivariate gaussian that is pairwise-independent but not collectivley independent?\n",
    "If your anser is yes, provide an example.\n",
    "If your answer is no, provide a proof."
   ]
  },
  {
   "cell_type": "markdown",
   "metadata": {},
   "source": [
    "\n",
    "No, will show it by proof. The density function for three dimensional multivariate gaussian looks like :\n",
    "$$fX(x1,x2,x3)=\\frac{1}{\\sqrt[]{(2π)^3|Σ|}}*exp(-\\frac{1}{2}(X_i−μ_i)^T Σ^{-1}(X_i−μ_i))$$   \n",
    "\n",
    "The COV between every two different variables will be 0 (pairwise-independent) \n",
    "$$\\sum = \n",
    "\\begin{pmatrix}\n",
    "σ^2_1 & 0 & 0 \\\\\n",
    "0 & σ^2_2 & 0 \\\\\n",
    "0 & 0 & σ^2_3\n",
    "\\end{pmatrix}$$\n",
    "\n",
    "In addtion the columns vectors are: \n",
    "\n",
    "$$X = \n",
    "\\begin{pmatrix}\n",
    "x_{1}  \\\\\n",
    "x_{2}  \\\\\n",
    "x_{3}  \n",
    "\\end{pmatrix}$$\n",
    "\n",
    "$$ µ = \n",
    "\\begin{pmatrix}\n",
    "µ_{1}  \\\\\n",
    "µ_{2}  \\\\\n",
    "µ_{3}  \n",
    "\\end{pmatrix}$$\n",
    "\n",
    "From simple placement we get :\n",
    "\n",
    "$$fX(x1,x2,x3)=\\frac{1}{\\sqrt[]{(2π)^3σ^2_1σ^2_2σ^2_3}}*exp(-\\frac{1}{2}\\frac{(x_{1}−µ_{1})^2)}{σ^2_i}+\\frac{(x_{2}−µ_{2})^2)}{σ^2_2}+\\frac{(x_{3}−µ_{3})^2)}{σ^2_3}) $$\n",
    "\n",
    "\n",
    "\n",
    "                                           \n",
    " f(x) is multivariate gaussian there for \n",
    " $$f(x_1),f(x_2),f(x_3)$$ \n",
    " Are gaussian distributions and we can use :\n",
    "    \n",
    " $$f(x_i)=\\frac{1}{\\sqrt[]{(2π)^3σ^2_i}}*exp(-\\frac{1}{2}\\frac{(x_{i}−µ_{i})^2)}{σ^2_i}) $$      \n",
    "    \n",
    "\n",
    "Which means that from :\n",
    "$$f(x_1)*f(x_2)*f(x_3)$$ \n",
    "\n",
    "we get the same result :\n",
    "    \n",
    "$$=\\frac{1}{\\sqrt[]{(2π)^3σ^2_1σ^2_2σ^2_3}}*exp(-\\frac{1}{2}\\frac{(x_{1}−µ_{1})^2)}{σ^2_i}+\\frac{(x_{2}−µ_{2})^2)}{σ^2_2}+\\frac{(x_{3}−µ_{3})^2)}{σ^2_3}) $$\n",
    "\n",
    "in conclusion the density indeed factorizes and we have mutually independent gaussians\n",
    "$$f(x_1)*f(x_2)*f(x_3)=fX(x1,x2,x3)$$ \n",
    "                                           "
   ]
  },
  {
   "cell_type": "markdown",
   "metadata": {},
   "source": [
    "#### 2.B\n",
    "Let $\\ X, Y \\ $ and $Z$  be discrete random variables with $\\ n, m \\ $ and $k$ possible outcomes respectivley.\n",
    "\n",
    "How many parameters define the joint distribution of $\\ X, Y \\ $ and $Z$?"
   ]
  },
  {
   "cell_type": "markdown",
   "metadata": {},
   "source": [
    "\n",
    "$$n*m*k$$"
   ]
  },
  {
   "cell_type": "markdown",
   "metadata": {},
   "source": [
    "#### 2.C\n",
    "For the same random variables from the previous section, how many parameters define the joint distribution of $\\ X, Y \\ $ and $Z$ if we now know that they are independent?"
   ]
  },
  {
   "cell_type": "markdown",
   "metadata": {},
   "source": [
    "$$n+m+k$$"
   ]
  },
  {
   "cell_type": "markdown",
   "metadata": {},
   "source": [
    "#### 2.D\n",
    "For the same random variables from the previous section, how many parameters define the joint distribution of $\\ X, Y \\ $ and $Z$ if we now know that $X$ and $Y$ are conditionaly independent given $Z$?"
   ]
  },
  {
   "cell_type": "markdown",
   "metadata": {},
   "source": [
    "$$(k*(m-1))+(k*(m-1))+(k-1)$$"
   ]
  },
  {
   "cell_type": "markdown",
   "metadata": {},
   "source": [
    "#### 2.E\n",
    "For the random variables from the previous section, let $n=m=2$ and $k=2$. Give and example for a joint distribution of $\\ X, Y \\ $ and $Z$ where $X$ and $Y$ are conditionaly independent given $Z$?"
   ]
  },
  {
   "cell_type": "markdown",
   "metadata": {},
   "source": [
    "X and Y conditionally independent given Z if:\n",
    "$$P(X = a, Y = b|Z = c) = P(X = a|Z = c)P(Y = b|Z = c)$$\n",
    "\n",
    "An example where 𝑋  and 𝑌 are conditionaly independent given 𝑍:\n",
    "\n",
    "In the biased coin example where we have two coins with probabilities n and m of obtaining Heads, and we randomly choose one of them (denote the choice by X) and\n",
    "flip it twice to obtain Y1, Y2, then Y1, Y2 are conditionally independent given X.  Y1, Y2 are\n",
    "not independent if p  is not equal to q.\n"
   ]
  },
  {
   "cell_type": "markdown",
   "metadata": {},
   "source": [
    "### Question 3 - Gaussian mixtures – parameter estimation and generation "
   ]
  },
  {
   "cell_type": "markdown",
   "metadata": {},
   "source": [
    "Consider the data provided in GMD_2021.csv\n",
    "Assume that the data comes from a Gaussian mixture distribution (GMD) with $k=3\\ \\ $. Furthermore, assume that $\\mu_{1}=4, \\mu_{2}=9, \\sigma_{1}=\\sigma_{2}=0.5, \\sigma_3=1.5$ and $w_2=0.25$.\n",
    "\n",
    "Read the data and answer the following questions."
   ]
  },
  {
   "cell_type": "code",
   "execution_count": 156,
   "metadata": {},
   "outputs": [
    {
     "data": {
      "text/html": [
       "<div>\n",
       "<style scoped>\n",
       "    .dataframe tbody tr th:only-of-type {\n",
       "        vertical-align: middle;\n",
       "    }\n",
       "\n",
       "    .dataframe tbody tr th {\n",
       "        vertical-align: top;\n",
       "    }\n",
       "\n",
       "    .dataframe thead th {\n",
       "        text-align: right;\n",
       "    }\n",
       "</style>\n",
       "<table border=\"1\" class=\"dataframe\">\n",
       "  <thead>\n",
       "    <tr style=\"text-align: right;\">\n",
       "      <th></th>\n",
       "      <th>Num</th>\n",
       "      <th>value</th>\n",
       "    </tr>\n",
       "  </thead>\n",
       "  <tbody>\n",
       "    <tr>\n",
       "      <th>0</th>\n",
       "      <td>0</td>\n",
       "      <td>3.575253</td>\n",
       "    </tr>\n",
       "    <tr>\n",
       "      <th>1</th>\n",
       "      <td>1</td>\n",
       "      <td>4.105491</td>\n",
       "    </tr>\n",
       "    <tr>\n",
       "      <th>2</th>\n",
       "      <td>2</td>\n",
       "      <td>3.903642</td>\n",
       "    </tr>\n",
       "    <tr>\n",
       "      <th>3</th>\n",
       "      <td>3</td>\n",
       "      <td>4.472249</td>\n",
       "    </tr>\n",
       "    <tr>\n",
       "      <th>4</th>\n",
       "      <td>4</td>\n",
       "      <td>4.297265</td>\n",
       "    </tr>\n",
       "    <tr>\n",
       "      <th>...</th>\n",
       "      <td>...</td>\n",
       "      <td>...</td>\n",
       "    </tr>\n",
       "    <tr>\n",
       "      <th>795</th>\n",
       "      <td>795</td>\n",
       "      <td>16.596823</td>\n",
       "    </tr>\n",
       "    <tr>\n",
       "      <th>796</th>\n",
       "      <td>796</td>\n",
       "      <td>16.314496</td>\n",
       "    </tr>\n",
       "    <tr>\n",
       "      <th>797</th>\n",
       "      <td>797</td>\n",
       "      <td>14.690099</td>\n",
       "    </tr>\n",
       "    <tr>\n",
       "      <th>798</th>\n",
       "      <td>798</td>\n",
       "      <td>12.942772</td>\n",
       "    </tr>\n",
       "    <tr>\n",
       "      <th>799</th>\n",
       "      <td>799</td>\n",
       "      <td>13.369323</td>\n",
       "    </tr>\n",
       "  </tbody>\n",
       "</table>\n",
       "<p>800 rows × 2 columns</p>\n",
       "</div>"
      ],
      "text/plain": [
       "     Num      value\n",
       "0      0   3.575253\n",
       "1      1   4.105491\n",
       "2      2   3.903642\n",
       "3      3   4.472249\n",
       "4      4   4.297265\n",
       "..   ...        ...\n",
       "795  795  16.596823\n",
       "796  796  16.314496\n",
       "797  797  14.690099\n",
       "798  798  12.942772\n",
       "799  799  13.369323\n",
       "\n",
       "[800 rows x 2 columns]"
      ]
     },
     "execution_count": 156,
     "metadata": {},
     "output_type": "execute_result"
    }
   ],
   "source": [
    "GMD = pd.read_csv(r\"C:\\Users\\יונתן דרפל\\Desktop\\לימודים\\תואר שני -דאטה סינאס\\סטטיסטיקה וניתוח נתונים\\שיעורי בית\\HW2\\GMD_2021.csv\", header = None)\n",
    "GMD.columns =['Num', 'value'] \n",
    "GMD"
   ]
  },
  {
   "cell_type": "markdown",
   "metadata": {},
   "source": [
    "#### 3.A\n",
    "Provide an estimate for the other parameters of the distribution in two different ways."
   ]
  },
  {
   "cell_type": "markdown",
   "metadata": {},
   "source": [
    "One way using EM:"
   ]
  },
  {
   "cell_type": "code",
   "execution_count": 180,
   "metadata": {},
   "outputs": [
    {
     "name": "stdout",
     "output_type": "stream",
     "text": [
      "[[ 8.99843174]\n",
      " [15.10399633]\n",
      " [ 4.08381061]]\n",
      "[0.25020291 0.62479709 0.125     ]\n"
     ]
    }
   ],
   "source": [
    "import numpy as np\n",
    "b = GMD['value'].values.reshape(len(GMD['value']),1)\n",
    "from sklearn.mixture import GaussianMixture\n",
    "gm = GaussianMixture(n_components=3, random_state=0).fit(b)\n",
    "print(gm.means_)\n",
    "print(gm.weights_)\n",
    "\n"
   ]
  },
  {
   "cell_type": "markdown",
   "metadata": {},
   "source": [
    "Secound way using scatter plot (manual clustering due to small and clear dataset):"
   ]
  },
  {
   "cell_type": "code",
   "execution_count": 158,
   "metadata": {},
   "outputs": [
    {
     "data": {
      "text/plain": [
       "<matplotlib.axes._subplots.AxesSubplot at 0x2ab0a466cd0>"
      ]
     },
     "execution_count": 158,
     "metadata": {},
     "output_type": "execute_result"
    },
    {
     "data": {
      "image/png": "[encoded data removed]",
      "text/plain": [
       "<Figure size 432x288 with 1 Axes>"
      ]
     },
     "metadata": {
      "needs_background": "light"
     },
     "output_type": "display_data"
    }
   ],
   "source": [
    "above_300 = GMD[GMD['Num'] > 299]\n",
    "ax = GMD.plot.scatter(0,1)\n",
    "ax "
   ]
  },
  {
   "cell_type": "code",
   "execution_count": 185,
   "metadata": {},
   "outputs": [
    {
     "name": "stdout",
     "output_type": "stream",
     "text": [
      "0.125\n",
      "0.625\n",
      "Num      549.500000\n",
      "value     15.103044\n",
      "dtype: float64\n"
     ]
    }
   ],
   "source": [
    "#Estimasions by graf\n",
    "#Given data:\n",
    "k=3\n",
    "# dis 1 \n",
    "w_1=100/800 #(=0.125)\n",
    "mu_1 = 4    #given\n",
    "sigma_1=0.5   #given\n",
    "# dis 2\n",
    "w_2=0.25  #given\n",
    "mu_2 =9    #given\n",
    "sigma_2=0.5  #given\n",
    "\n",
    "# dis 3  \n",
    "w_3=500/800  # (=0.625) --> from the scatter plot we can see that third distribution clearly is between 300-800\n",
    "mu_3= above_300.mean()   #(averge of 300-800)\n",
    "sigma_2=1.5\n",
    "print(w_1)\n",
    "print(w_3)\n",
    "print(mu_3) # (=~15)"
   ]
  },
  {
   "cell_type": "markdown",
   "metadata": {},
   "source": [
    "#### 3.B\n",
    "Plot a graph of the pdf of the distribution you inferred. Select adequate limits for the axes for this plot and explain your decision."
   ]
  },
  {
   "cell_type": "code",
   "execution_count": 186,
   "metadata": {},
   "outputs": [
    {
     "name": "stderr",
     "output_type": "stream",
     "text": [
      "C:\\ProgramData\\Anaconda3\\lib\\site-packages\\seaborn\\distributions.py:2551: FutureWarning: `distplot` is a deprecated function and will be removed in a future version. Please adapt your code to use either `displot` (a figure-level function with similar flexibility) or `histplot` (an axes-level function for histograms).\n",
      "  warnings.warn(msg, FutureWarning)\n"
     ]
    },
    {
     "name": "stdout",
     "output_type": "stream",
     "text": [
      " we choose the limit as the min and the max of the values in the distrbution\n"
     ]
    },
    {
     "data": {
      "image/png": "[encoded data removed]",
      "text/plain": [
       "<Figure size 432x288 with 1 Axes>"
      ]
     },
     "metadata": {
      "needs_background": "light"
     },
     "output_type": "display_data"
    }
   ],
   "source": [
    "a = sns.distplot(b, hist=True, kde=True, \n",
    "             bins=int(50), color = 'darkblue', \n",
    "             hist_kws={'edgecolor':'black'},\n",
    "             kde_kws={'linewidth': 4})\n",
    "a.set(xlim=(b.min(),b.max()))\n",
    "plt.title(' pdf of the distribution')\n",
    "\n",
    "print(\" we choose the limit as the min and the max of the values in the distrbution\")"
   ]
  },
  {
   "cell_type": "markdown",
   "metadata": {},
   "source": [
    "#### 3.C\n",
    "Describe two ways for generating data for a GMD random variable with:\n",
    "* centers at  $\\mu_1+3, \\mu_2+5, mu_3+7$\n",
    "* $\\sigma_1=\\sigma_2=\\sigma_3=1$\n",
    "* $w_1=w_2=w_3=0.33$"
   ]
  },
  {
   "cell_type": "markdown",
   "metadata": {},
   "source": [
    "1 - Generate 3 equal-sized normal distributions with mean and sigma requested using numpy.random.normal\n",
    "\n",
    "2 - Add to a list 2 value for each distrbution each of them with 1 q form her mean  \n"
   ]
  },
  {
   "cell_type": "markdown",
   "metadata": {},
   "source": [
    "#### 3.D\n",
    "Use one of the above approaches to generate 1000 points and plot a histogram of the result (decide on bins, axes etc)\n"
   ]
  },
  {
   "cell_type": "code",
   "execution_count": 1,
   "metadata": {},
   "outputs": [
    {
     "ename": "NameError",
     "evalue": "name 'sns' is not defined",
     "output_type": "error",
     "traceback": [
      "\u001b[1;31m---------------------------------------------------------------------------\u001b[0m",
      "\u001b[1;31mNameError\u001b[0m                                 Traceback (most recent call last)",
      "\u001b[1;32m<ipython-input-1-3ddb2be32cb5>\u001b[0m in \u001b[0;36m<module>\u001b[1;34m\u001b[0m\n\u001b[1;32m----> 1\u001b[1;33m sns.distplot(df['age'], hist=True, kde=True, \n\u001b[0m\u001b[0;32m      2\u001b[0m              \u001b[0mbins\u001b[0m\u001b[1;33m=\u001b[0m\u001b[0mint\u001b[0m\u001b[1;33m(\u001b[0m\u001b[1;36m180\u001b[0m\u001b[1;33m/\u001b[0m\u001b[1;36m5\u001b[0m\u001b[1;33m)\u001b[0m\u001b[1;33m,\u001b[0m \u001b[0mcolor\u001b[0m \u001b[1;33m=\u001b[0m \u001b[1;34m'darkblue'\u001b[0m\u001b[1;33m,\u001b[0m\u001b[1;33m\u001b[0m\u001b[1;33m\u001b[0m\u001b[0m\n\u001b[0;32m      3\u001b[0m              \u001b[0mhist_kws\u001b[0m\u001b[1;33m=\u001b[0m\u001b[1;33m{\u001b[0m\u001b[1;34m'edgecolor'\u001b[0m\u001b[1;33m:\u001b[0m\u001b[1;34m'black'\u001b[0m\u001b[1;33m}\u001b[0m\u001b[1;33m,\u001b[0m\u001b[1;33m\u001b[0m\u001b[1;33m\u001b[0m\u001b[0m\n\u001b[0;32m      4\u001b[0m              kde_kws={'linewidth': 4})\n\u001b[0;32m      5\u001b[0m \u001b[0ml2\u001b[0m \u001b[1;33m=\u001b[0m \u001b[0mnp\u001b[0m\u001b[1;33m.\u001b[0m\u001b[0mrandom\u001b[0m\u001b[1;33m.\u001b[0m\u001b[0mnormal\u001b[0m\u001b[1;33m(\u001b[0m\u001b[0mloc\u001b[0m\u001b[1;33m=\u001b[0m \u001b[1;36m12\u001b[0m\u001b[1;33m,\u001b[0m \u001b[0mscale\u001b[0m\u001b[1;33m=\u001b[0m\u001b[1;36m1\u001b[0m\u001b[1;33m,\u001b[0m \u001b[0msize\u001b[0m\u001b[1;33m=\u001b[0m\u001b[1;36m333\u001b[0m\u001b[1;33m)\u001b[0m\u001b[1;33m\u001b[0m\u001b[1;33m\u001b[0m\u001b[0m\n",
      "\u001b[1;31mNameError\u001b[0m: name 'sns' is not defined"
     ]
    }
   ],
   "source": [
    "l1 = np.random.normal(loc= 7 , scale=1, size=333)\n",
    "l2 = np.random.normal(loc= 12, scale=1, size=333)\n",
    "l3 = np.random.normal(loc= 23, scale=1, size=334)\n",
    "l_l = np.concatenate((l1,l2,l3))\n",
    "sns.displot(l_l)\n",
    "plt.title('The 1000 points hist')"
   ]
  },
  {
   "cell_type": "markdown",
   "metadata": {},
   "source": [
    "#### 3.E - BONUS\n",
    "Use the other one to generate 1000 more points and draw two comparative histograms.\n"
   ]
  },
  {
   "cell_type": "code",
   "execution_count": 188,
   "metadata": {},
   "outputs": [
    {
     "data": {
      "text/plain": [
       "23.0"
      ]
     },
     "execution_count": 188,
     "metadata": {},
     "output_type": "execute_result"
    },
    {
     "data": {
      "image/png": "[encoded data removed]",
      "text/plain": [
       "<Figure size 415.75x360 with 1 Axes>"
      ]
     },
     "metadata": {
      "needs_background": "light"
     },
     "output_type": "display_data"
    }
   ],
   "source": [
    "t1, t2, t3 = [], [], []\n",
    "n = 333//2\n",
    "for i in range (n):\n",
    "    t1.append(6)\n",
    "    t1.append(8)\n",
    "    t2.append(11)\n",
    "    t2.append(13)\n",
    "    t3.append(22)\n",
    "    t3.append(24)\n",
    "t_t = np.concatenate((t1,t2,t3))\n",
    "\n",
    "df = pd.DataFrame()\n",
    "df['value'] = np.concatenate((l_l,t_t))\n",
    "first_hist = ['first'] *1000\n",
    "s_hist = ['sec'] * 996\n",
    "df['hist'] = first_hist +s_hist\n",
    "sns.displot(df, x= \"value\", hue='hist', common_norm=False)\n",
    "plt.title('The 2000 points hist')\n",
    "\n",
    "np.mean(t3)"
   ]
  },
  {
   "cell_type": "markdown",
   "metadata": {},
   "source": [
    "### Question 4 - Normally distributed salaries"
   ]
  },
  {
   "cell_type": "markdown",
   "metadata": {},
   "source": [
    "The annual salaries of employees in a large Randomistan company are approximateley normally distributed with a mean of 70,000 RCU and a standard deviation of 30,000 RCU."
   ]
  },
  {
   "cell_type": "code",
   "execution_count": 189,
   "metadata": {},
   "outputs": [
    {
     "data": {
      "text/plain": [
       "[<matplotlib.lines.Line2D at 0x2ab0a61c700>]"
      ]
     },
     "execution_count": 189,
     "metadata": {},
     "output_type": "execute_result"
    },
    {
     "data": {
      "image/png": "[encoded data removed]",
      "text/plain": [
       "<Figure size 432x288 with 1 Axes>"
      ]
     },
     "metadata": {
      "needs_background": "light"
     },
     "output_type": "display_data"
    }
   ],
   "source": [
    "#annual salaries of employees\n",
    "mu=70000\n",
    "sigma =30000\n",
    "s = np.random.normal(mu, sigma, 1000)\n",
    "s.sort()\n",
    "smean = np.mean(s)\n",
    "sstd = np.std(s)\n",
    "pdf = stats.norm.pdf(s, mu, sigma)\n",
    "plt.plot(s, pdf) # including h here is crucial"
   ]
  },
  {
   "cell_type": "markdown",
   "metadata": {},
   "source": [
    "#### 4.A\n",
    "What percent of people earn less than 50,000 RCU?"
   ]
  },
  {
   "cell_type": "code",
   "execution_count": 190,
   "metadata": {},
   "outputs": [
    {
     "data": {
      "text/plain": [
       "0.2524925375469229"
      ]
     },
     "execution_count": 190,
     "metadata": {},
     "output_type": "execute_result"
    }
   ],
   "source": [
    "value_1=norm.cdf(50000,mu,sigma)\n",
    "value_1"
   ]
  },
  {
   "cell_type": "markdown",
   "metadata": {},
   "source": [
    "#### 4.B\n",
    "What percent of people earn between 45,000 RCU and 65,000 RCU?"
   ]
  },
  {
   "cell_type": "code",
   "execution_count": 191,
   "metadata": {},
   "outputs": [
    {
     "data": {
      "text/plain": [
       "0.23148778642545326"
      ]
     },
     "execution_count": 191,
     "metadata": {},
     "output_type": "execute_result"
    }
   ],
   "source": [
    "value_2 = norm.cdf(65000,mu,sigma)-norm.cdf(45000,mu,sigma)\n",
    "value_2"
   ]
  },
  {
   "cell_type": "markdown",
   "metadata": {},
   "source": [
    "#### 4.C\n",
    "What percent of people earn more than 70,000 RCU?"
   ]
  },
  {
   "cell_type": "code",
   "execution_count": 192,
   "metadata": {},
   "outputs": [
    {
     "data": {
      "text/plain": [
       "0.5"
      ]
     },
     "execution_count": 192,
     "metadata": {},
     "output_type": "execute_result"
    }
   ],
   "source": [
    "value_3 = 1-norm.cdf(70000,mu,sigma)\n",
    "value_3"
   ]
  },
  {
   "cell_type": "markdown",
   "metadata": {},
   "source": [
    "#### 4.D\n",
    "The company has 1000 employees. How many employees in the company do you expect to earn more than 140,000 RCU?"
   ]
  },
  {
   "cell_type": "code",
   "execution_count": 163,
   "metadata": {},
   "outputs": [
    {
     "data": {
      "text/plain": [
       "10.0"
      ]
     },
     "execution_count": 163,
     "metadata": {},
     "output_type": "execute_result"
    }
   ],
   "source": [
    "value_4 = (1-norm.cdf(140000,mu,sigma))*1000\n",
    "round(value_4)"
   ]
  },
  {
   "cell_type": "markdown",
   "metadata": {},
   "source": [
    "#### 4.E\n",
    "<span style=\"color:red\"> This question was slightly updated due to a subtlety in the phrasing </span>\n",
    "\n",
    "A survey is performed on employees of the company. **20 groups of 50 employees each are sampled (with replacenets).**\n",
    "What is the probability that more than 10 groups have an average salary between 50,000 RCU and 70,000 RCU?\n"
   ]
  },
  {
   "cell_type": "code",
   "execution_count": 164,
   "metadata": {},
   "outputs": [
    {
     "data": {
      "text/plain": [
       "0.411897195116123"
      ]
     },
     "execution_count": 164,
     "metadata": {},
     "output_type": "execute_result"
    }
   ],
   "source": [
    "sd_new = 30000 / np.sqrt(50)\n",
    "p = scipy.stats.norm.cdf(70000, 70000, sd_new) - scipy.stats.norm.cdf(50000, 70000, sd_new)\n",
    "1 - binom.cdf(10, 20, p)\n",
    "\n",
    "\n"
   ]
  },
  {
   "cell_type": "markdown",
   "metadata": {},
   "source": [
    "### Question 5 - Coupon collector"
   ]
  },
  {
   "cell_type": "markdown",
   "metadata": {},
   "source": [
    "Let $T_{N}$ denote the waiting time for full single coupon collection with N different equiprobable coupon types"
   ]
  },
  {
   "cell_type": "markdown",
   "metadata": {},
   "source": [
    "#### 5.A\n",
    "Write code to compute the exact value of $E(T_{N})$"
   ]
  },
  {
   "cell_type": "code",
   "execution_count": 165,
   "metadata": {},
   "outputs": [
    {
     "data": {
      "text/plain": [
       "71.95479314287364"
      ]
     },
     "execution_count": 165,
     "metadata": {},
     "output_type": "execute_result"
    }
   ],
   "source": [
    "def e_T(n):\n",
    "    total = 1\n",
    "    for i in range (2,n+1):\n",
    "        total += 1/i\n",
    "    return n*total\n",
    "e_T(20)"
   ]
  },
  {
   "cell_type": "markdown",
   "metadata": {},
   "source": [
    "#### 5.B\n",
    "Write code to compute the exact value of $V(T_{N})$"
   ]
  },
  {
   "cell_type": "code",
   "execution_count": 168,
   "metadata": {},
   "outputs": [
    {
     "name": "stderr",
     "output_type": "stream",
     "text": [
      "C:\\ProgramData\\Anaconda3\\lib\\site-packages\\scipy\\stats\\_discrete_distns.py:360: RuntimeWarning: divide by zero encountered in true_divide\n",
      "  g1 = (2.0-p) / sqrt(qr)\n",
      "C:\\ProgramData\\Anaconda3\\lib\\site-packages\\scipy\\stats\\_discrete_distns.py:361: RuntimeWarning: divide by zero encountered in true_divide\n",
      "  g2 = np.polyval([1, -6, 6], p)/(1.0-p)\n"
     ]
    },
    {
     "data": {
      "text/plain": [
       "566.5105044223355"
      ]
     },
     "execution_count": 168,
     "metadata": {},
     "output_type": "execute_result"
    }
   ],
   "source": [
    "def var_T(N):\n",
    "    sum = 0\n",
    "    for i in range(1,N+1):\n",
    "        p = (N-i+1)/N\n",
    "        sum = sum+ scipy.stats.geom.var(p)\n",
    "    return sum\n",
    "var_T(20)"
   ]
  },
  {
   "cell_type": "markdown",
   "metadata": {},
   "source": [
    "#### 5.C\n",
    "Write code to exactly compute $P(T_{20}>40)$"
   ]
  },
  {
   "cell_type": "code",
   "execution_count": 169,
   "metadata": {},
   "outputs": [
    {
     "name": "stdout",
     "output_type": "stream",
     "text": [
      "0.9641122736925725\n"
     ]
    }
   ],
   "source": [
    "def p_greater(n_suc,n_try):\n",
    "    p = (n_suc - np.arange(n_suc)) / n_suc\n",
    "    try_v = np.arange(n_try) + 1\n",
    "    p1 = scipy.stats.geom.pmf(try_v, p[0])\n",
    "    \n",
    "    for i in p[1:]:\n",
    "        p_i = scipy.stats.geom.pmf(try_v, i)\n",
    "        p1 = np.convolve(p1, p_i)\n",
    "    return 1 - p1[:n_try+1-n_suc].sum()\n",
    "\n",
    "print((p_greater(20,40)))"
   ]
  },
  {
   "cell_type": "markdown",
   "metadata": {},
   "source": [
    "#### 5.D\n",
    "Use Chebicheff to provide a bound for the probability from C and compare the results"
   ]
  },
  {
   "cell_type": "code",
   "execution_count": 170,
   "metadata": {},
   "outputs": [
    {
     "name": "stdout",
     "output_type": "stream",
     "text": [
      "0.44520064682904903\n"
     ]
    }
   ],
   "source": [
    "n,x = 20, 40\n",
    "var = var_T(n)\n",
    "sd = np.sqrt(var)\n",
    "e_x = e_T(n)\n",
    "b = (x - e_x) / sd \n",
    "print(1 - (1 / b**2))"
   ]
  },
  {
   "cell_type": "markdown",
   "metadata": {},
   "source": [
    "We can see that Chebicheff bound is a general  bound but not so precis"
   ]
  }
 ],
 "metadata": {
  "kernelspec": {
   "display_name": "Python 3",
   "language": "python",
   "name": "python3"
  },
  "language_info": {
   "codemirror_mode": {
    "name": "ipython",
    "version": 3
   },
   "file_extension": ".py",
   "mimetype": "text/x-python",
   "name": "python",
   "nbconvert_exporter": "python",
   "pygments_lexer": "ipython3",
   "version": "3.8.3"
  }
 },
 "nbformat": 4,
 "nbformat_minor": 2
}
